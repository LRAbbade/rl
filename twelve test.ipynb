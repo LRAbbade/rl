{
 "cells": [
  {
   "cell_type": "code",
   "execution_count": 1,
   "id": "292d23a4",
   "metadata": {},
   "outputs": [],
   "source": [
    "from datetime import date\n",
    "import requests\n",
    "import pandas as pd"
   ]
  },
  {
   "cell_type": "code",
   "execution_count": 2,
   "id": "fbcbd4a2",
   "metadata": {},
   "outputs": [],
   "source": [
    "with open('.env') as file:\n",
    "    env = {key: value for key, value in (line.split('=') for line in file.read().split('\\n') if line)}"
   ]
  },
  {
   "cell_type": "code",
   "execution_count": 16,
   "id": "c3188be3",
   "metadata": {},
   "outputs": [],
   "source": [
    "headers = {\n",
    "    'Authorization': f'apikey {env[\"twelve-key\"]}'\n",
    "}"
   ]
  },
  {
   "cell_type": "code",
   "execution_count": 17,
   "id": "128f7ff2",
   "metadata": {},
   "outputs": [],
   "source": [
    "base_url = 'https://api.twelvedata.com'"
   ]
  },
  {
   "cell_type": "code",
   "execution_count": 18,
   "id": "b1ceb664",
   "metadata": {},
   "outputs": [],
   "source": [
    "r = requests.get(base_url + '/earliest_timestamp', {\n",
    "    'symbol': 'AAPL',\n",
    "    'interval': '1min'\n",
    "}, headers=headers)\n",
    "assert r.status_code == 200"
   ]
  },
  {
   "cell_type": "code",
   "execution_count": 19,
   "id": "ddd6ac5e",
   "metadata": {},
   "outputs": [
    {
     "data": {
      "text/plain": [
       "{'datetime': '2020-03-24 10:07:00', 'unix_time': 1585058820}"
      ]
     },
     "execution_count": 19,
     "metadata": {},
     "output_type": "execute_result"
    }
   ],
   "source": [
    "r.json()"
   ]
  },
  {
   "cell_type": "code",
   "execution_count": 20,
   "id": "b1093940",
   "metadata": {},
   "outputs": [
    {
     "data": {
      "text/plain": [
       "{'datetime': '2020-03-23 14:47:00', 'unix_time': 1584989220}"
      ]
     },
     "execution_count": 20,
     "metadata": {},
     "output_type": "execute_result"
    }
   ],
   "source": [
    "r = requests.get(base_url + '/earliest_timestamp', {\n",
    "    'symbol': 'A',\n",
    "    'interval': '1min'\n",
    "}, headers=headers)\n",
    "assert r.status_code == 200\n",
    "r.json()"
   ]
  },
  {
   "cell_type": "code",
   "execution_count": 46,
   "id": "ec470546",
   "metadata": {},
   "outputs": [],
   "source": [
    "r = requests.get(base_url + '/time_series', {\n",
    "    'symbol': ','.join(['AAPL']),\n",
    "#     'interval': '1min'\n",
    "    'interval': '1day',\n",
    "    'start_date': str(date(2023, 1, 10)),\n",
    "    'end_date': str(date(2023, 1, 10))\n",
    "}, headers=headers)\n",
    "assert r.status_code == 200"
   ]
  },
  {
   "cell_type": "code",
   "execution_count": 43,
   "id": "f44c549c",
   "metadata": {},
   "outputs": [],
   "source": [
    "def add_ticker(ticker, to):\n",
    "    to['ticker'] = ticker\n",
    "    return to"
   ]
  },
  {
   "cell_type": "code",
   "execution_count": 47,
   "id": "01844290",
   "metadata": {},
   "outputs": [
    {
     "data": {
      "text/plain": [
       "{'code': 400,\n",
       " 'message': 'No data is available on the specified dates. Try setting different start/end dates.',\n",
       " 'status': 'error',\n",
       " 'meta': {'symbol': 'AAPL', 'interval': '1day', 'exchange': ''}}"
      ]
     },
     "execution_count": 47,
     "metadata": {},
     "output_type": "execute_result"
    }
   ],
   "source": [
    "r.json()"
   ]
  },
  {
   "cell_type": "code",
   "execution_count": 45,
   "id": "1d3ebf10",
   "metadata": {},
   "outputs": [
    {
     "data": {
      "text/html": [
       "<div>\n",
       "<style scoped>\n",
       "    .dataframe tbody tr th:only-of-type {\n",
       "        vertical-align: middle;\n",
       "    }\n",
       "\n",
       "    .dataframe tbody tr th {\n",
       "        vertical-align: top;\n",
       "    }\n",
       "\n",
       "    .dataframe thead th {\n",
       "        text-align: right;\n",
       "    }\n",
       "</style>\n",
       "<table border=\"1\" class=\"dataframe\">\n",
       "  <thead>\n",
       "    <tr style=\"text-align: right;\">\n",
       "      <th></th>\n",
       "      <th>datetime</th>\n",
       "      <th>open</th>\n",
       "      <th>high</th>\n",
       "      <th>low</th>\n",
       "      <th>close</th>\n",
       "      <th>volume</th>\n",
       "      <th>ticker</th>\n",
       "    </tr>\n",
       "  </thead>\n",
       "  <tbody>\n",
       "    <tr>\n",
       "      <th>0</th>\n",
       "      <td>2023-01-10</td>\n",
       "      <td>130.25999</td>\n",
       "      <td>131.26360</td>\n",
       "      <td>128.12000</td>\n",
       "      <td>130.73000</td>\n",
       "      <td>63428000</td>\n",
       "      <td>AAPL</td>\n",
       "    </tr>\n",
       "  </tbody>\n",
       "</table>\n",
       "</div>"
      ],
      "text/plain": [
       "     datetime       open       high        low      close    volume ticker\n",
       "0  2023-01-10  130.25999  131.26360  128.12000  130.73000  63428000   AAPL"
      ]
     },
     "execution_count": 45,
     "metadata": {},
     "output_type": "execute_result"
    }
   ],
   "source": [
    "add_ticker(r.json()['meta']['symbol'], pd.DataFrame(r.json()['values']))"
   ]
  },
  {
   "cell_type": "code",
   "execution_count": 41,
   "id": "08bc1c2d",
   "metadata": {},
   "outputs": [
    {
     "ename": "KeyError",
     "evalue": "'values'",
     "output_type": "error",
     "traceback": [
      "\u001b[0;31m---------------------------------------------------------------------------\u001b[0m",
      "\u001b[0;31mKeyError\u001b[0m                                  Traceback (most recent call last)",
      "Cell \u001b[0;32mIn[41], line 1\u001b[0m\n\u001b[0;32m----> 1\u001b[0m pd\u001b[38;5;241m.\u001b[39mDataFrame([\n\u001b[1;32m      2\u001b[0m     j \u001b[38;5;28;01mfor\u001b[39;00m i \u001b[38;5;129;01min\u001b[39;00m\n\u001b[1;32m      3\u001b[0m         ((make_row(key, row) \u001b[38;5;28;01mfor\u001b[39;00m row \u001b[38;5;129;01min\u001b[39;00m data[\u001b[38;5;124m'\u001b[39m\u001b[38;5;124mvalues\u001b[39m\u001b[38;5;124m'\u001b[39m])\n\u001b[1;32m      4\u001b[0m          \u001b[38;5;28;01mfor\u001b[39;00m key, data \u001b[38;5;129;01min\u001b[39;00m r\u001b[38;5;241m.\u001b[39mjson()\u001b[38;5;241m.\u001b[39mitems())\n\u001b[1;32m      5\u001b[0m     \u001b[38;5;28;01mfor\u001b[39;00m j \u001b[38;5;129;01min\u001b[39;00m i\n\u001b[1;32m      6\u001b[0m ])\n",
      "Cell \u001b[0;32mIn[41], line 1\u001b[0m, in \u001b[0;36m<listcomp>\u001b[0;34m(.0)\u001b[0m\n\u001b[0;32m----> 1\u001b[0m pd\u001b[38;5;241m.\u001b[39mDataFrame([\n\u001b[1;32m      2\u001b[0m     j \u001b[38;5;28;01mfor\u001b[39;00m i \u001b[38;5;129;01min\u001b[39;00m\n\u001b[1;32m      3\u001b[0m         ((make_row(key, row) \u001b[38;5;28;01mfor\u001b[39;00m row \u001b[38;5;129;01min\u001b[39;00m data[\u001b[38;5;124m'\u001b[39m\u001b[38;5;124mvalues\u001b[39m\u001b[38;5;124m'\u001b[39m])\n\u001b[1;32m      4\u001b[0m          \u001b[38;5;28;01mfor\u001b[39;00m key, data \u001b[38;5;129;01min\u001b[39;00m r\u001b[38;5;241m.\u001b[39mjson()\u001b[38;5;241m.\u001b[39mitems())\n\u001b[1;32m      5\u001b[0m     \u001b[38;5;28;01mfor\u001b[39;00m j \u001b[38;5;129;01min\u001b[39;00m i\n\u001b[1;32m      6\u001b[0m ])\n",
      "Cell \u001b[0;32mIn[41], line 3\u001b[0m, in \u001b[0;36m<genexpr>\u001b[0;34m(.0)\u001b[0m\n\u001b[1;32m      1\u001b[0m pd\u001b[38;5;241m.\u001b[39mDataFrame([\n\u001b[1;32m      2\u001b[0m     j \u001b[38;5;28;01mfor\u001b[39;00m i \u001b[38;5;129;01min\u001b[39;00m\n\u001b[0;32m----> 3\u001b[0m         ((make_row(key, row) \u001b[38;5;28;01mfor\u001b[39;00m row \u001b[38;5;129;01min\u001b[39;00m \u001b[43mdata\u001b[49m\u001b[43m[\u001b[49m\u001b[38;5;124;43m'\u001b[39;49m\u001b[38;5;124;43mvalues\u001b[39;49m\u001b[38;5;124;43m'\u001b[39;49m\u001b[43m]\u001b[49m)\n\u001b[1;32m      4\u001b[0m          \u001b[38;5;28;01mfor\u001b[39;00m key, data \u001b[38;5;129;01min\u001b[39;00m r\u001b[38;5;241m.\u001b[39mjson()\u001b[38;5;241m.\u001b[39mitems())\n\u001b[1;32m      5\u001b[0m     \u001b[38;5;28;01mfor\u001b[39;00m j \u001b[38;5;129;01min\u001b[39;00m i\n\u001b[1;32m      6\u001b[0m ])\n",
      "\u001b[0;31mKeyError\u001b[0m: 'values'"
     ]
    }
   ],
   "source": [
    "pd.DataFrame([\n",
    "    j for i in\n",
    "        ((add_ticker(key, row) for row in data['values'])\n",
    "         for key, data in r.json().items())\n",
    "    for j in i\n",
    "])"
   ]
  },
  {
   "cell_type": "markdown",
   "id": "f430932b",
   "metadata": {},
   "source": [
    "---"
   ]
  },
  {
   "cell_type": "code",
   "execution_count": 3,
   "id": "bb2b5340",
   "metadata": {},
   "outputs": [],
   "source": [
    "from portfolio_rl.data_sources.twelve_client import TwelveClient"
   ]
  },
  {
   "cell_type": "code",
   "execution_count": 5,
   "id": "41730be9",
   "metadata": {},
   "outputs": [],
   "source": [
    "client = TwelveClient(env[\"twelve-key\"], 'data/twelve_cache')"
   ]
  },
  {
   "cell_type": "code",
   "execution_count": 9,
   "id": "f2861d73",
   "metadata": {},
   "outputs": [
    {
     "name": "stdout",
     "output_type": "stream",
     "text": [
      "Found cached file data/twelve_cache/twelve_AAPL_20230110_20230112_1day.parquet\n"
     ]
    },
    {
     "data": {
      "text/html": [
       "<div>\n",
       "<style scoped>\n",
       "    .dataframe tbody tr th:only-of-type {\n",
       "        vertical-align: middle;\n",
       "    }\n",
       "\n",
       "    .dataframe tbody tr th {\n",
       "        vertical-align: top;\n",
       "    }\n",
       "\n",
       "    .dataframe thead th {\n",
       "        text-align: right;\n",
       "    }\n",
       "</style>\n",
       "<table border=\"1\" class=\"dataframe\">\n",
       "  <thead>\n",
       "    <tr style=\"text-align: right;\">\n",
       "      <th></th>\n",
       "      <th>datetime</th>\n",
       "      <th>open</th>\n",
       "      <th>high</th>\n",
       "      <th>low</th>\n",
       "      <th>close</th>\n",
       "      <th>volume</th>\n",
       "      <th>ticker</th>\n",
       "      <th>date</th>\n",
       "    </tr>\n",
       "  </thead>\n",
       "  <tbody>\n",
       "    <tr>\n",
       "      <th>0</th>\n",
       "      <td>2023-01-10</td>\n",
       "      <td>130.25999</td>\n",
       "      <td>131.26360</td>\n",
       "      <td>128.12000</td>\n",
       "      <td>130.73000</td>\n",
       "      <td>63428000.0</td>\n",
       "      <td>AAPL</td>\n",
       "      <td>2023-01-10</td>\n",
       "    </tr>\n",
       "    <tr>\n",
       "      <th>1</th>\n",
       "      <td>2023-01-11</td>\n",
       "      <td>131.25000</td>\n",
       "      <td>133.50999</td>\n",
       "      <td>130.46001</td>\n",
       "      <td>133.49001</td>\n",
       "      <td>69120000.0</td>\n",
       "      <td>AAPL</td>\n",
       "      <td>2023-01-11</td>\n",
       "    </tr>\n",
       "  </tbody>\n",
       "</table>\n",
       "</div>"
      ],
      "text/plain": [
       "    datetime       open       high        low      close      volume ticker   \n",
       "0 2023-01-10  130.25999  131.26360  128.12000  130.73000  63428000.0   AAPL  \\\n",
       "1 2023-01-11  131.25000  133.50999  130.46001  133.49001  69120000.0   AAPL   \n",
       "\n",
       "         date  \n",
       "0  2023-01-10  \n",
       "1  2023-01-11  "
      ]
     },
     "execution_count": 9,
     "metadata": {},
     "output_type": "execute_result"
    }
   ],
   "source": [
    "client.cached_single_time_series('AAPL', date(2023, 1, 10), date(2023, 1, 12), interval='1day')"
   ]
  }
 ],
 "metadata": {
  "kernelspec": {
   "display_name": "Python 3 (ipykernel)",
   "language": "python",
   "name": "python3"
  },
  "language_info": {
   "codemirror_mode": {
    "name": "ipython",
    "version": 3
   },
   "file_extension": ".py",
   "mimetype": "text/x-python",
   "name": "python",
   "nbconvert_exporter": "python",
   "pygments_lexer": "ipython3",
   "version": "3.10.10"
  }
 },
 "nbformat": 4,
 "nbformat_minor": 5
}
