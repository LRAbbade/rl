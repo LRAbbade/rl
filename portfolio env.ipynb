{
 "cells": [
  {
   "cell_type": "code",
   "execution_count": 1,
   "id": "20a25474",
   "metadata": {},
   "outputs": [],
   "source": [
    "from portfolio_rl.gym_env.gym_env import PortfolioEnv"
   ]
  },
  {
   "cell_type": "code",
   "execution_count": 10,
   "id": "ba4917a0",
   "metadata": {},
   "outputs": [],
   "source": [
    "env = PortfolioEnv()"
   ]
  },
  {
   "cell_type": "code",
   "execution_count": 11,
   "id": "4f06cd69",
   "metadata": {},
   "outputs": [
    {
     "data": {
      "text/plain": [
       "1000000.0"
      ]
     },
     "execution_count": 11,
     "metadata": {},
     "output_type": "execute_result"
    }
   ],
   "source": [
    "env.wallet"
   ]
  }
 ],
 "metadata": {
  "kernelspec": {
   "display_name": "Python 3 (ipykernel)",
   "language": "python",
   "name": "python3"
  },
  "language_info": {
   "codemirror_mode": {
    "name": "ipython",
    "version": 3
   },
   "file_extension": ".py",
   "mimetype": "text/x-python",
   "name": "python",
   "nbconvert_exporter": "python",
   "pygments_lexer": "ipython3",
   "version": "3.10.10"
  }
 },
 "nbformat": 4,
 "nbformat_minor": 5
}
