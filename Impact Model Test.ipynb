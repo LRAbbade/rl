{
 "cells": [
  {
   "cell_type": "code",
   "execution_count": 1,
   "id": "e9c431d9-4b70-4b7a-a433-16909a8e321f",
   "metadata": {},
   "outputs": [],
   "source": [
    "from datetime import date\n",
    "from portfolio_rl.impact.impact_models import ACImpactModel, OWImpactModel\n",
    "import numpy as np"
   ]
  },
  {
   "cell_type": "markdown",
   "id": "e1c457a0-8469-41e5-9f1e-b7fc2d78016c",
   "metadata": {},
   "source": [
    "### Almgren–Chriss model"
   ]
  },
  {
   "cell_type": "code",
   "execution_count": 3,
   "id": "8474f127-b9d1-4a9c-afa2-c467fffce9c2",
   "metadata": {},
   "outputs": [],
   "source": [
    "ac = ACImpactModel()"
   ]
  },
  {
   "cell_type": "code",
   "execution_count": 4,
   "id": "3f47a3da-7b5a-44d3-b7c0-4416ffcb81c4",
   "metadata": {},
   "outputs": [
    {
     "data": {
      "text/html": [
       "<div>\n",
       "<style scoped>\n",
       "    .dataframe tbody tr th:only-of-type {\n",
       "        vertical-align: middle;\n",
       "    }\n",
       "\n",
       "    .dataframe tbody tr th {\n",
       "        vertical-align: top;\n",
       "    }\n",
       "\n",
       "    .dataframe thead th {\n",
       "        text-align: right;\n",
       "    }\n",
       "</style>\n",
       "<table border=\"1\" class=\"dataframe\">\n",
       "  <thead>\n",
       "    <tr style=\"text-align: right;\">\n",
       "      <th></th>\n",
       "      <th>date</th>\n",
       "      <th>symbol</th>\n",
       "      <th>permanent_impact</th>\n",
       "    </tr>\n",
       "  </thead>\n",
       "  <tbody>\n",
       "  </tbody>\n",
       "</table>\n",
       "</div>"
      ],
      "text/plain": [
       "Empty DataFrame\n",
       "Columns: [date, symbol, permanent_impact]\n",
       "Index: []"
      ]
     },
     "execution_count": 4,
     "metadata": {},
     "output_type": "execute_result"
    }
   ],
   "source": [
    "ac.get_impact_history()"
   ]
  },
  {
   "cell_type": "code",
   "execution_count": 5,
   "id": "c06286e3-572c-42f8-8cd6-a64e3489de7b",
   "metadata": {},
   "outputs": [
    {
     "data": {
      "text/plain": [
       "TradeImpact(cost=1.2, price_shift=6.000000000000001e-09)"
      ]
     },
     "execution_count": 5,
     "metadata": {},
     "output_type": "execute_result"
    }
   ],
   "source": [
    "ac.apply_trade(100, 100, 0.02, 1e6, 'nvda')"
   ]
  },
  {
   "cell_type": "code",
   "execution_count": 6,
   "id": "4be99455-13d0-482d-8a1c-9f6ba5a74e29",
   "metadata": {},
   "outputs": [
    {
     "data": {
      "text/plain": [
       "TradeImpact(cost=1200.0, price_shift=6.000000000000002e-07)"
      ]
     },
     "execution_count": 6,
     "metadata": {},
     "output_type": "execute_result"
    }
   ],
   "source": [
    "ac.apply_trade(10e3, 100, 0.02, 1e6, 'nvda')"
   ]
  },
  {
   "cell_type": "code",
   "execution_count": 7,
   "id": "ed53831f-419c-41ac-8f3a-0f20d41840e4",
   "metadata": {},
   "outputs": [
    {
     "data": {
      "text/plain": [
       "TradeImpact(cost=13416.407864998737, price_shift=3e-06)"
      ]
     },
     "execution_count": 7,
     "metadata": {},
     "output_type": "execute_result"
    }
   ],
   "source": [
    "ac.apply_trade(50e3, 100, 0.02, 1e6, 'nvda')"
   ]
  },
  {
   "cell_type": "code",
   "execution_count": 8,
   "id": "00eb5898-30c2-4418-a958-3a55be66190d",
   "metadata": {},
   "outputs": [],
   "source": [
    "ac.end_day(date(2025, 1, 1))"
   ]
  },
  {
   "cell_type": "code",
   "execution_count": 9,
   "id": "e0d1ef2f-1054-4c16-82d3-fd721d86a621",
   "metadata": {},
   "outputs": [
    {
     "data": {
      "text/html": [
       "<div>\n",
       "<style scoped>\n",
       "    .dataframe tbody tr th:only-of-type {\n",
       "        vertical-align: middle;\n",
       "    }\n",
       "\n",
       "    .dataframe tbody tr th {\n",
       "        vertical-align: top;\n",
       "    }\n",
       "\n",
       "    .dataframe thead th {\n",
       "        text-align: right;\n",
       "    }\n",
       "</style>\n",
       "<table border=\"1\" class=\"dataframe\">\n",
       "  <thead>\n",
       "    <tr style=\"text-align: right;\">\n",
       "      <th></th>\n",
       "      <th>date</th>\n",
       "      <th>symbol</th>\n",
       "      <th>permanent_impact</th>\n",
       "    </tr>\n",
       "  </thead>\n",
       "  <tbody>\n",
       "    <tr>\n",
       "      <th>0</th>\n",
       "      <td>2025-01-01</td>\n",
       "      <td>nvda</td>\n",
       "      <td>0.000004</td>\n",
       "    </tr>\n",
       "  </tbody>\n",
       "</table>\n",
       "</div>"
      ],
      "text/plain": [
       "         date symbol  permanent_impact\n",
       "0  2025-01-01   nvda          0.000004"
      ]
     },
     "execution_count": 9,
     "metadata": {},
     "output_type": "execute_result"
    }
   ],
   "source": [
    "ac.get_impact_history()"
   ]
  },
  {
   "cell_type": "code",
   "execution_count": 10,
   "id": "996c38ca-7c9d-4f0e-a4ea-d984cc382223",
   "metadata": {},
   "outputs": [
    {
     "data": {
      "text/plain": [
       "TradeImpact(cost=37947.33192202055, price_shift=6e-06)"
      ]
     },
     "execution_count": 10,
     "metadata": {},
     "output_type": "execute_result"
    }
   ],
   "source": [
    "ac.apply_trade(1e5, 100, 0.02, 1e6, 'nvda')"
   ]
  },
  {
   "cell_type": "code",
   "execution_count": 11,
   "id": "46746cab-34de-4240-bb98-8136ce061405",
   "metadata": {},
   "outputs": [],
   "source": [
    "ac.end_day(date(2025, 1, 2))"
   ]
  },
  {
   "cell_type": "code",
   "execution_count": 12,
   "id": "085ccb3c-f19c-4e4e-90a3-0db6a7563f43",
   "metadata": {},
   "outputs": [
    {
     "data": {
      "text/html": [
       "<div>\n",
       "<style scoped>\n",
       "    .dataframe tbody tr th:only-of-type {\n",
       "        vertical-align: middle;\n",
       "    }\n",
       "\n",
       "    .dataframe tbody tr th {\n",
       "        vertical-align: top;\n",
       "    }\n",
       "\n",
       "    .dataframe thead th {\n",
       "        text-align: right;\n",
       "    }\n",
       "</style>\n",
       "<table border=\"1\" class=\"dataframe\">\n",
       "  <thead>\n",
       "    <tr style=\"text-align: right;\">\n",
       "      <th></th>\n",
       "      <th>date</th>\n",
       "      <th>symbol</th>\n",
       "      <th>permanent_impact</th>\n",
       "    </tr>\n",
       "  </thead>\n",
       "  <tbody>\n",
       "    <tr>\n",
       "      <th>0</th>\n",
       "      <td>2025-01-01</td>\n",
       "      <td>nvda</td>\n",
       "      <td>0.000004</td>\n",
       "    </tr>\n",
       "    <tr>\n",
       "      <th>1</th>\n",
       "      <td>2025-01-02</td>\n",
       "      <td>nvda</td>\n",
       "      <td>0.000010</td>\n",
       "    </tr>\n",
       "  </tbody>\n",
       "</table>\n",
       "</div>"
      ],
      "text/plain": [
       "         date symbol  permanent_impact\n",
       "0  2025-01-01   nvda          0.000004\n",
       "1  2025-01-02   nvda          0.000010"
      ]
     },
     "execution_count": 12,
     "metadata": {},
     "output_type": "execute_result"
    }
   ],
   "source": [
    "ac.get_impact_history()"
   ]
  },
  {
   "cell_type": "code",
   "execution_count": 13,
   "id": "1dfab6eb-f6bf-456c-8dc6-fd181db97643",
   "metadata": {},
   "outputs": [
    {
     "data": {
      "text/plain": [
       "TradeImpact(cost=37947.33192202055, price_shift=6e-06)"
      ]
     },
     "execution_count": 13,
     "metadata": {},
     "output_type": "execute_result"
    }
   ],
   "source": [
    "ac.apply_trade(1e5, 100, 0.02, 1e6, 'nvda')"
   ]
  },
  {
   "cell_type": "code",
   "execution_count": 14,
   "id": "88fe9a95-7bf5-4dc8-9967-62642301800a",
   "metadata": {},
   "outputs": [
    {
     "data": {
      "text/plain": [
       "TradeImpact(cost=37947.33192202055, price_shift=6e-06)"
      ]
     },
     "execution_count": 14,
     "metadata": {},
     "output_type": "execute_result"
    }
   ],
   "source": [
    "ac.apply_trade(1e5, 100, 0.02, 1e6, 'nvda')"
   ]
  },
  {
   "cell_type": "code",
   "execution_count": 15,
   "id": "2a99e450-1ef8-4278-9a4d-959bba0d6637",
   "metadata": {},
   "outputs": [
    {
     "data": {
      "text/plain": [
       "TradeImpact(cost=37947.33192202055, price_shift=6e-06)"
      ]
     },
     "execution_count": 15,
     "metadata": {},
     "output_type": "execute_result"
    }
   ],
   "source": [
    "ac.apply_trade(1e5, 100, 0.02, 1e6, 'nvda')"
   ]
  },
  {
   "cell_type": "code",
   "execution_count": 16,
   "id": "c9eae5db-d2fb-4acf-8875-8073afaec56d",
   "metadata": {},
   "outputs": [],
   "source": [
    "ac.end_day(date(2025, 1, 3))"
   ]
  },
  {
   "cell_type": "code",
   "execution_count": 17,
   "id": "d7116675-4a95-4d8b-9394-e2fc463fa6fc",
   "metadata": {},
   "outputs": [
    {
     "data": {
      "text/html": [
       "<div>\n",
       "<style scoped>\n",
       "    .dataframe tbody tr th:only-of-type {\n",
       "        vertical-align: middle;\n",
       "    }\n",
       "\n",
       "    .dataframe tbody tr th {\n",
       "        vertical-align: top;\n",
       "    }\n",
       "\n",
       "    .dataframe thead th {\n",
       "        text-align: right;\n",
       "    }\n",
       "</style>\n",
       "<table border=\"1\" class=\"dataframe\">\n",
       "  <thead>\n",
       "    <tr style=\"text-align: right;\">\n",
       "      <th></th>\n",
       "      <th>date</th>\n",
       "      <th>symbol</th>\n",
       "      <th>permanent_impact</th>\n",
       "    </tr>\n",
       "  </thead>\n",
       "  <tbody>\n",
       "    <tr>\n",
       "      <th>0</th>\n",
       "      <td>2025-01-01</td>\n",
       "      <td>nvda</td>\n",
       "      <td>0.000004</td>\n",
       "    </tr>\n",
       "    <tr>\n",
       "      <th>1</th>\n",
       "      <td>2025-01-02</td>\n",
       "      <td>nvda</td>\n",
       "      <td>0.000010</td>\n",
       "    </tr>\n",
       "    <tr>\n",
       "      <th>2</th>\n",
       "      <td>2025-01-03</td>\n",
       "      <td>nvda</td>\n",
       "      <td>0.000028</td>\n",
       "    </tr>\n",
       "  </tbody>\n",
       "</table>\n",
       "</div>"
      ],
      "text/plain": [
       "         date symbol  permanent_impact\n",
       "0  2025-01-01   nvda          0.000004\n",
       "1  2025-01-02   nvda          0.000010\n",
       "2  2025-01-03   nvda          0.000028"
      ]
     },
     "execution_count": 17,
     "metadata": {},
     "output_type": "execute_result"
    }
   ],
   "source": [
    "ac.get_impact_history()"
   ]
  },
  {
   "cell_type": "markdown",
   "id": "072ca0e0-0e9b-477e-8273-6987ef22b9e9",
   "metadata": {},
   "source": [
    "---"
   ]
  },
  {
   "cell_type": "markdown",
   "id": "f445ea3d-6870-428e-841b-f7cc124bb312",
   "metadata": {},
   "source": [
    "### Obizhaeva–Wang model"
   ]
  },
  {
   "cell_type": "code",
   "execution_count": 20,
   "id": "94383e6f-e665-42a1-8b68-f88ef62a2989",
   "metadata": {},
   "outputs": [],
   "source": [
    "ow = OWImpactModel()"
   ]
  },
  {
   "cell_type": "code",
   "execution_count": 21,
   "id": "160d67b6-46ad-4e67-9300-20db1a8022ed",
   "metadata": {},
   "outputs": [
    {
     "data": {
      "text/html": [
       "<div>\n",
       "<style scoped>\n",
       "    .dataframe tbody tr th:only-of-type {\n",
       "        vertical-align: middle;\n",
       "    }\n",
       "\n",
       "    .dataframe tbody tr th {\n",
       "        vertical-align: top;\n",
       "    }\n",
       "\n",
       "    .dataframe thead th {\n",
       "        text-align: right;\n",
       "    }\n",
       "</style>\n",
       "<table border=\"1\" class=\"dataframe\">\n",
       "  <thead>\n",
       "    <tr style=\"text-align: right;\">\n",
       "      <th></th>\n",
       "      <th>date</th>\n",
       "      <th>symbol</th>\n",
       "      <th>permanent_impact</th>\n",
       "    </tr>\n",
       "  </thead>\n",
       "  <tbody>\n",
       "  </tbody>\n",
       "</table>\n",
       "</div>"
      ],
      "text/plain": [
       "Empty DataFrame\n",
       "Columns: [date, symbol, permanent_impact]\n",
       "Index: []"
      ]
     },
     "execution_count": 21,
     "metadata": {},
     "output_type": "execute_result"
    }
   ],
   "source": [
    "ow.get_impact_history()"
   ]
  },
  {
   "cell_type": "code",
   "execution_count": 22,
   "id": "097a8498-278b-4f37-bde7-c410cce1fee3",
   "metadata": {},
   "outputs": [
    {
     "data": {
      "text/plain": [
       "TradeImpact(cost=1.2, price_shift=6.000000000000001e-09)"
      ]
     },
     "execution_count": 22,
     "metadata": {},
     "output_type": "execute_result"
    }
   ],
   "source": [
    "ow.apply_trade(100, 100, 0.02, 1e6, 'nvda')"
   ]
  },
  {
   "cell_type": "code",
   "execution_count": 23,
   "id": "7fb5c7d1-f5d0-416b-9be5-e6fd0134d9d9",
   "metadata": {},
   "outputs": [
    {
     "data": {
      "text/plain": [
       "TradeImpact(cost=1200.0000000014647, price_shift=6.000000000000002e-07)"
      ]
     },
     "execution_count": 23,
     "metadata": {},
     "output_type": "execute_result"
    }
   ],
   "source": [
    "ow.apply_trade(10e3, 100, 0.02, 1e6, 'nvda')"
   ]
  },
  {
   "cell_type": "code",
   "execution_count": 24,
   "id": "a48c65e6-2bcb-4da4-bd90-c9400da8fbea",
   "metadata": {},
   "outputs": [
    {
     "data": {
      "text/plain": [
       "TradeImpact(cost=13416.407865326286, price_shift=3e-06)"
      ]
     },
     "execution_count": 24,
     "metadata": {},
     "output_type": "execute_result"
    }
   ],
   "source": [
    "ow.apply_trade(50e3, 100, 0.02, 1e6, 'nvda')"
   ]
  },
  {
   "cell_type": "code",
   "execution_count": 25,
   "id": "4a1ca233-85dd-4dae-bd7a-d21326caab4e",
   "metadata": {},
   "outputs": [],
   "source": [
    "ow.end_day(date(2025, 1, 1))"
   ]
  },
  {
   "cell_type": "code",
   "execution_count": 26,
   "id": "fb86a3b8-36f0-4941-b62a-aeb80b6e0a15",
   "metadata": {},
   "outputs": [
    {
     "data": {
      "text/html": [
       "<div>\n",
       "<style scoped>\n",
       "    .dataframe tbody tr th:only-of-type {\n",
       "        vertical-align: middle;\n",
       "    }\n",
       "\n",
       "    .dataframe tbody tr th {\n",
       "        vertical-align: top;\n",
       "    }\n",
       "\n",
       "    .dataframe thead th {\n",
       "        text-align: right;\n",
       "    }\n",
       "</style>\n",
       "<table border=\"1\" class=\"dataframe\">\n",
       "  <thead>\n",
       "    <tr style=\"text-align: right;\">\n",
       "      <th></th>\n",
       "      <th>date</th>\n",
       "      <th>symbol</th>\n",
       "      <th>permanent_impact</th>\n",
       "    </tr>\n",
       "  </thead>\n",
       "  <tbody>\n",
       "    <tr>\n",
       "      <th>0</th>\n",
       "      <td>2025-01-01</td>\n",
       "      <td>nvda</td>\n",
       "      <td>0.000004</td>\n",
       "    </tr>\n",
       "  </tbody>\n",
       "</table>\n",
       "</div>"
      ],
      "text/plain": [
       "         date symbol  permanent_impact\n",
       "0  2025-01-01   nvda          0.000004"
      ]
     },
     "execution_count": 26,
     "metadata": {},
     "output_type": "execute_result"
    }
   ],
   "source": [
    "ow.get_impact_history()"
   ]
  },
  {
   "cell_type": "code",
   "execution_count": 27,
   "id": "e0963c4f-24a4-45a1-b615-f2e998a8e2d8",
   "metadata": {},
   "outputs": [
    {
     "data": {
      "text/plain": [
       "TradeImpact(cost=37947.33192433673, price_shift=6e-06)"
      ]
     },
     "execution_count": 27,
     "metadata": {},
     "output_type": "execute_result"
    }
   ],
   "source": [
    "ow.apply_trade(1e5, 100, 0.02, 1e6, 'nvda')"
   ]
  },
  {
   "cell_type": "code",
   "execution_count": 28,
   "id": "71af2c20-8c0a-45e2-8997-7cef847ec86f",
   "metadata": {},
   "outputs": [],
   "source": [
    "ow.end_day(date(2025, 1, 2))"
   ]
  },
  {
   "cell_type": "code",
   "execution_count": 29,
   "id": "42e6da7d-5053-4dd4-a3df-3c1fdf894b53",
   "metadata": {},
   "outputs": [
    {
     "data": {
      "text/html": [
       "<div>\n",
       "<style scoped>\n",
       "    .dataframe tbody tr th:only-of-type {\n",
       "        vertical-align: middle;\n",
       "    }\n",
       "\n",
       "    .dataframe tbody tr th {\n",
       "        vertical-align: top;\n",
       "    }\n",
       "\n",
       "    .dataframe thead th {\n",
       "        text-align: right;\n",
       "    }\n",
       "</style>\n",
       "<table border=\"1\" class=\"dataframe\">\n",
       "  <thead>\n",
       "    <tr style=\"text-align: right;\">\n",
       "      <th></th>\n",
       "      <th>date</th>\n",
       "      <th>symbol</th>\n",
       "      <th>permanent_impact</th>\n",
       "    </tr>\n",
       "  </thead>\n",
       "  <tbody>\n",
       "    <tr>\n",
       "      <th>0</th>\n",
       "      <td>2025-01-01</td>\n",
       "      <td>nvda</td>\n",
       "      <td>0.000004</td>\n",
       "    </tr>\n",
       "    <tr>\n",
       "      <th>1</th>\n",
       "      <td>2025-01-02</td>\n",
       "      <td>nvda</td>\n",
       "      <td>0.000010</td>\n",
       "    </tr>\n",
       "  </tbody>\n",
       "</table>\n",
       "</div>"
      ],
      "text/plain": [
       "         date symbol  permanent_impact\n",
       "0  2025-01-01   nvda          0.000004\n",
       "1  2025-01-02   nvda          0.000010"
      ]
     },
     "execution_count": 29,
     "metadata": {},
     "output_type": "execute_result"
    }
   ],
   "source": [
    "ow.get_impact_history()"
   ]
  },
  {
   "cell_type": "code",
   "execution_count": 30,
   "id": "d9bf9379-1534-4b1c-9257-ca2f4b8f34b1",
   "metadata": {},
   "outputs": [
    {
     "data": {
      "text/plain": [
       "TradeImpact(cost=37947.331926653074, price_shift=6e-06)"
      ]
     },
     "execution_count": 30,
     "metadata": {},
     "output_type": "execute_result"
    }
   ],
   "source": [
    "ow.apply_trade(1e5, 100, 0.02, 1e6, 'nvda')"
   ]
  },
  {
   "cell_type": "code",
   "execution_count": 31,
   "id": "116269e5-2227-4aec-9eef-3ac1fa2fe897",
   "metadata": {},
   "outputs": [
    {
     "data": {
      "text/plain": [
       "TradeImpact(cost=37947.331926653365, price_shift=6e-06)"
      ]
     },
     "execution_count": 31,
     "metadata": {},
     "output_type": "execute_result"
    }
   ],
   "source": [
    "ow.apply_trade(1e5, 100, 0.02, 1e6, 'nvda')"
   ]
  },
  {
   "cell_type": "code",
   "execution_count": 32,
   "id": "588246b9-c19d-401b-aab7-d25d9cd2a6c6",
   "metadata": {},
   "outputs": [
    {
     "data": {
      "text/plain": [
       "TradeImpact(cost=37947.331926653365, price_shift=6e-06)"
      ]
     },
     "execution_count": 32,
     "metadata": {},
     "output_type": "execute_result"
    }
   ],
   "source": [
    "ow.apply_trade(1e5, 100, 0.02, 1e6, 'nvda')"
   ]
  },
  {
   "cell_type": "code",
   "execution_count": 33,
   "id": "2c336b8e-c4bb-4d05-a8a7-f981d26aa3d3",
   "metadata": {},
   "outputs": [],
   "source": [
    "ow.end_day(date(2025, 1, 3))"
   ]
  },
  {
   "cell_type": "code",
   "execution_count": 34,
   "id": "26beecef-b46d-4777-80d4-fc6961e32aee",
   "metadata": {},
   "outputs": [
    {
     "data": {
      "text/html": [
       "<div>\n",
       "<style scoped>\n",
       "    .dataframe tbody tr th:only-of-type {\n",
       "        vertical-align: middle;\n",
       "    }\n",
       "\n",
       "    .dataframe tbody tr th {\n",
       "        vertical-align: top;\n",
       "    }\n",
       "\n",
       "    .dataframe thead th {\n",
       "        text-align: right;\n",
       "    }\n",
       "</style>\n",
       "<table border=\"1\" class=\"dataframe\">\n",
       "  <thead>\n",
       "    <tr style=\"text-align: right;\">\n",
       "      <th></th>\n",
       "      <th>date</th>\n",
       "      <th>symbol</th>\n",
       "      <th>permanent_impact</th>\n",
       "    </tr>\n",
       "  </thead>\n",
       "  <tbody>\n",
       "    <tr>\n",
       "      <th>0</th>\n",
       "      <td>2025-01-01</td>\n",
       "      <td>nvda</td>\n",
       "      <td>0.000004</td>\n",
       "    </tr>\n",
       "    <tr>\n",
       "      <th>1</th>\n",
       "      <td>2025-01-02</td>\n",
       "      <td>nvda</td>\n",
       "      <td>0.000010</td>\n",
       "    </tr>\n",
       "    <tr>\n",
       "      <th>2</th>\n",
       "      <td>2025-01-03</td>\n",
       "      <td>nvda</td>\n",
       "      <td>0.000028</td>\n",
       "    </tr>\n",
       "  </tbody>\n",
       "</table>\n",
       "</div>"
      ],
      "text/plain": [
       "         date symbol  permanent_impact\n",
       "0  2025-01-01   nvda          0.000004\n",
       "1  2025-01-02   nvda          0.000010\n",
       "2  2025-01-03   nvda          0.000028"
      ]
     },
     "execution_count": 34,
     "metadata": {},
     "output_type": "execute_result"
    }
   ],
   "source": [
    "ow.get_impact_history()"
   ]
  },
  {
   "cell_type": "markdown",
   "id": "9660fd0a-9a45-443c-84d3-7d391ad87f93",
   "metadata": {},
   "source": [
    "---"
   ]
  },
  {
   "cell_type": "markdown",
   "id": "f0c0073a-699c-4775-a6d7-534007103478",
   "metadata": {},
   "source": [
    "## AC x OW diff"
   ]
  },
  {
   "cell_type": "code",
   "execution_count": 3,
   "id": "94654186-9986-40c4-8968-8f01f90054d6",
   "metadata": {},
   "outputs": [
    {
     "name": "stdout",
     "output_type": "stream",
     "text": [
      "OW total cost (with proper transient impact): 379494.17\n",
      "AC total cost: 379473.32\n",
      "Difference (OW - AC): 20.85\n"
     ]
    }
   ],
   "source": [
    "ow = OWImpactModel(half_life_minutes=30)\n",
    "ac = ACImpactModel()\n",
    "\n",
    "x = 100_000\n",
    "volatility = 0.02\n",
    "volume = 1_000_000\n",
    "price = 100\n",
    "\n",
    "total_cost_ow = 0\n",
    "total_cost_ac = 0\n",
    "\n",
    "trade_interval_minutes = 30\n",
    "decay_per_trade = np.exp(-ow.kappa * (trade_interval_minutes / 390))\n",
    "\n",
    "for i in range(10):\n",
    "    # OW with decay between trades\n",
    "    total_cost_ow += ow.apply_trade(x, price, volatility, volume, 'NVDA').cost\n",
    "    ow._transient_states['NVDA'] *= decay_per_trade\n",
    "\n",
    "    # AC model\n",
    "    total_cost_ac += ac.apply_trade(x, price, volatility, volume, 'NVDA').cost\n",
    "\n",
    "print(f\"OW total cost (with proper transient impact): {total_cost_ow:.2f}\")\n",
    "print(f\"AC total cost: {total_cost_ac:.2f}\")\n",
    "print(f\"Difference (OW - AC): {total_cost_ow - total_cost_ac:.2f}\")"
   ]
  }
 ],
 "metadata": {
  "kernelspec": {
   "display_name": "Python [conda env:base] *",
   "language": "python",
   "name": "conda-base-py"
  },
  "language_info": {
   "codemirror_mode": {
    "name": "ipython",
    "version": 3
   },
   "file_extension": ".py",
   "mimetype": "text/x-python",
   "name": "python",
   "nbconvert_exporter": "python",
   "pygments_lexer": "ipython3",
   "version": "3.12.7"
  }
 },
 "nbformat": 4,
 "nbformat_minor": 5
}
