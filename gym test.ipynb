{
 "cells": [
  {
   "cell_type": "code",
   "execution_count": 1,
   "id": "5c46c70b",
   "metadata": {},
   "outputs": [
    {
     "name": "stdout",
     "output_type": "stream",
     "text": [
      "Requirement already satisfied: gymnasium in /Users/lucasabbade/opt/anaconda3/lib/python3.10/site-packages (0.28.1)\r\n",
      "Requirement already satisfied: jax-jumpy>=1.0.0 in /Users/lucasabbade/opt/anaconda3/lib/python3.10/site-packages (from gymnasium) (1.0.0)\r\n",
      "Requirement already satisfied: farama-notifications>=0.0.1 in /Users/lucasabbade/opt/anaconda3/lib/python3.10/site-packages (from gymnasium) (0.0.4)\r\n",
      "Requirement already satisfied: numpy>=1.21.0 in /Users/lucasabbade/opt/anaconda3/lib/python3.10/site-packages (from gymnasium) (1.22.4)\r\n",
      "Requirement already satisfied: typing-extensions>=4.3.0 in /Users/lucasabbade/opt/anaconda3/lib/python3.10/site-packages (from gymnasium) (4.4.0)\r\n",
      "Requirement already satisfied: cloudpickle>=1.2.0 in /Users/lucasabbade/opt/anaconda3/lib/python3.10/site-packages (from gymnasium) (2.0.0)\r\n"
     ]
    }
   ],
   "source": [
    "!pip install gymnasium"
   ]
  },
  {
   "cell_type": "code",
   "execution_count": 4,
   "id": "2f438579",
   "metadata": {},
   "outputs": [
    {
     "name": "stdout",
     "output_type": "stream",
     "text": [
      "Requirement already satisfied: box2d in /Users/lucasabbade/opt/anaconda3/lib/python3.10/site-packages (2.3.2)\n",
      "Collecting box2d-kengz\n",
      "  Downloading Box2D-kengz-2.3.3.tar.gz (425 kB)\n",
      "\u001b[2K     \u001b[38;2;114;156;31m━━━━━━━━━━━━━━━━━━━━━━━━━━━━━━━━━━━━━━━\u001b[0m \u001b[32m425.4/425.4 kB\u001b[0m \u001b[31m2.9 MB/s\u001b[0m eta \u001b[36m0:00:00\u001b[0m[31m3.1 MB/s\u001b[0m eta \u001b[36m0:00:01\u001b[0m\n",
      "\u001b[?25h  Preparing metadata (setup.py) ... \u001b[?25ldone\n",
      "\u001b[?25hBuilding wheels for collected packages: box2d-kengz\n",
      "  Building wheel for box2d-kengz (setup.py) ... \u001b[?25ldone\n",
      "\u001b[?25h  Created wheel for box2d-kengz: filename=Box2D_kengz-2.3.3-cp310-cp310-macosx_10_9_x86_64.whl size=418517 sha256=e87e6ec5d7b7bc663d30fc291e36dc0b8d7c87eddf3d3fbba267e9c5d034a9c6\n",
      "  Stored in directory: /Users/lucasabbade/Library/Caches/pip/wheels/ab/a3/5f/6396406aa0163da86c2a8d28304a120b55cfa98363654d853b\n",
      "Successfully built box2d-kengz\n",
      "Installing collected packages: box2d-kengz\n",
      "Successfully installed box2d-kengz-2.3.3\n"
     ]
    }
   ],
   "source": [
    "!pip install box2d box2d-kengz"
   ]
  },
  {
   "cell_type": "code",
   "execution_count": 1,
   "id": "0ed27531",
   "metadata": {
    "scrolled": true
   },
   "outputs": [
    {
     "name": "stdout",
     "output_type": "stream",
     "text": [
      "Requirement already satisfied: ray in /Users/lucasabbade/opt/anaconda3/lib/python3.10/site-packages (2.3.1)\n",
      "Requirement already satisfied: msgpack<2.0.0,>=1.0.0 in /Users/lucasabbade/opt/anaconda3/lib/python3.10/site-packages (from ray) (1.0.3)\n",
      "Requirement already satisfied: protobuf!=3.19.5,>=3.15.3 in /Users/lucasabbade/opt/anaconda3/lib/python3.10/site-packages (from ray) (3.20.3)\n",
      "Requirement already satisfied: packaging in /Users/lucasabbade/opt/anaconda3/lib/python3.10/site-packages (from ray) (23.0)\n",
      "Requirement already satisfied: virtualenv>=20.0.24 in /Users/lucasabbade/opt/anaconda3/lib/python3.10/site-packages (from ray) (20.21.0)\n",
      "Requirement already satisfied: aiosignal in /Users/lucasabbade/opt/anaconda3/lib/python3.10/site-packages (from ray) (1.3.1)\n",
      "Requirement already satisfied: pyyaml in /Users/lucasabbade/opt/anaconda3/lib/python3.10/site-packages (from ray) (6.0)\n",
      "Requirement already satisfied: jsonschema in /Users/lucasabbade/opt/anaconda3/lib/python3.10/site-packages (from ray) (4.17.3)\n",
      "Requirement already satisfied: requests in /Users/lucasabbade/opt/anaconda3/lib/python3.10/site-packages (from ray) (2.28.2)\n",
      "Requirement already satisfied: grpcio<=1.49.1,>=1.42.0 in /Users/lucasabbade/opt/anaconda3/lib/python3.10/site-packages (from ray) (1.49.1)\n",
      "Requirement already satisfied: frozenlist in /Users/lucasabbade/opt/anaconda3/lib/python3.10/site-packages (from ray) (1.3.3)\n",
      "Requirement already satisfied: filelock in /Users/lucasabbade/opt/anaconda3/lib/python3.10/site-packages (from ray) (3.9.0)\n",
      "Requirement already satisfied: click>=7.0 in /Users/lucasabbade/opt/anaconda3/lib/python3.10/site-packages (from ray) (8.1.3)\n",
      "Requirement already satisfied: attrs in /Users/lucasabbade/opt/anaconda3/lib/python3.10/site-packages (from ray) (22.1.0)\n",
      "Requirement already satisfied: numpy>=1.19.3 in /Users/lucasabbade/opt/anaconda3/lib/python3.10/site-packages (from ray) (1.22.4)\n",
      "Requirement already satisfied: six>=1.5.2 in /Users/lucasabbade/opt/anaconda3/lib/python3.10/site-packages (from grpcio<=1.49.1,>=1.42.0->ray) (1.16.0)\n",
      "Requirement already satisfied: distlib<1,>=0.3.6 in /Users/lucasabbade/opt/anaconda3/lib/python3.10/site-packages (from virtualenv>=20.0.24->ray) (0.3.6)\n",
      "Requirement already satisfied: platformdirs<4,>=2.4 in /Users/lucasabbade/opt/anaconda3/lib/python3.10/site-packages (from virtualenv>=20.0.24->ray) (2.5.2)\n",
      "Requirement already satisfied: pyrsistent!=0.17.0,!=0.17.1,!=0.17.2,>=0.14.0 in /Users/lucasabbade/opt/anaconda3/lib/python3.10/site-packages (from jsonschema->ray) (0.18.0)\n",
      "Requirement already satisfied: charset-normalizer<4,>=2 in /Users/lucasabbade/opt/anaconda3/lib/python3.10/site-packages (from requests->ray) (2.0.4)\n",
      "Requirement already satisfied: urllib3<1.27,>=1.21.1 in /Users/lucasabbade/opt/anaconda3/lib/python3.10/site-packages (from requests->ray) (1.26.15)\n",
      "Requirement already satisfied: idna<4,>=2.5 in /Users/lucasabbade/opt/anaconda3/lib/python3.10/site-packages (from requests->ray) (3.4)\n",
      "Requirement already satisfied: certifi>=2017.4.17 in /Users/lucasabbade/opt/anaconda3/lib/python3.10/site-packages (from requests->ray) (2022.12.7)\n"
     ]
    }
   ],
   "source": [
    "!pip install ray"
   ]
  }
 ],
 "metadata": {
  "kernelspec": {
   "display_name": "Python 3 (ipykernel)",
   "language": "python",
   "name": "python3"
  },
  "language_info": {
   "codemirror_mode": {
    "name": "ipython",
    "version": 3
   },
   "file_extension": ".py",
   "mimetype": "text/x-python",
   "name": "python",
   "nbconvert_exporter": "python",
   "pygments_lexer": "ipython3",
   "version": "3.10.10"
  }
 },
 "nbformat": 4,
 "nbformat_minor": 5
}
